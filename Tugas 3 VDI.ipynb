{
  "nbformat": 4,
  "nbformat_minor": 0,
  "metadata": {
    "colab": {
      "provenance": [],
      "authorship_tag": "ABX9TyPr3DiAL1oLB6xawmw0zatJ",
      "include_colab_link": true
    },
    "kernelspec": {
      "name": "python3",
      "display_name": "Python 3"
    },
    "language_info": {
      "name": "python"
    }
  },
  "cells": [
    {
      "cell_type": "markdown",
      "metadata": {
        "id": "view-in-github",
        "colab_type": "text"
      },
      "source": [
        "<a href=\"https://colab.research.google.com/github/dwiratnaanggraeni/Visualisasi-Data-dan-Informasi-/blob/main/Tugas%203%20VDI.ipynb\" target=\"_parent\"><img src=\"https://colab.research.google.com/assets/colab-badge.svg\" alt=\"Open In Colab\"/></a>"
      ]
    },
    {
      "cell_type": "markdown",
      "source": [
        "**Tugas Pertemuan 3 Visualisasi Data dan informasi**\n",
        "\n",
        "Dwi Ratna Anggareni\n",
        "\n",
        "122450008\n",
        "\n",
        "RB\n",
        "\n",
        "\n",
        "1. **Tujuan:**\n",
        "* Menyajikan informasi tentang perubahan persentase rumah tangga yang menggunakan sumber air minum bersih di berbagai kabupaten/kota di Sumatera Selatan dari tahun 2020 hingga 2022.\n",
        "* Mengidentifikasi tren dan perubahan signifikan dalam penggunaan sumber air minum bersih.\n",
        "\n",
        "2. **User:**\n",
        "* Pemerintah daerah dan pembuat kebijakan yang bertanggung jawab atas infrastruktur dan kesehatan masyarakat.\n",
        "* Peneliti dan akademisi yang mempelajari akses terhadap air bersih dan dampaknya terhadap kesehatan masyarakat.\n",
        "*Organisasi non-pemerintah (NGO) yang bekerja di bidang sanitasi dan kesehatan.\n",
        "\n",
        "3. **Fungsi:**\n",
        "* Memberikan wawasan yang jelas dan mudah dipahami tentang status dan perubahan penggunaan sumber air minum bersih.\n",
        "* Membantu dalam pengambilan keputusan terkait kebijakan dan program peningkatan akses air bersih.\n",
        "* Menyediakan data yang dapat digunakan untuk penelitian lebih lanjut dan analisis mendalam.\n",
        "4. **Tone:**\n",
        "* Informasional dan profesional, dengan fokus pada penyajian data yang akurat dan mudah dipahami.\n",
        "* Netral dan objektif, tanpa bias atau opini pribadi.\n",
        "\n"
      ],
      "metadata": {
        "id": "reuBhe0T0cNx"
      }
    },
    {
      "cell_type": "code",
      "execution_count": 7,
      "metadata": {
        "colab": {
          "base_uri": "https://localhost:8080/"
        },
        "id": "BJjW3rNG0LfM",
        "outputId": "9e3f90e7-bab4-49cf-e984-b3e9acf2dd6e"
      },
      "outputs": [
        {
          "output_type": "stream",
          "name": "stdout",
          "text": [
            "    Kabupaten/Kota 17                                         Unnamed: 1  \\\n",
            "0                 NaN  Persentase rumah tangga menggunakan sumber air...   \n",
            "1                 NaN                                               2020   \n",
            "2    Sumatera Selatan                                              64.67   \n",
            "3   Ogan Komering Ulu                                               75.2   \n",
            "4  Ogan Komering Ilir                                              65.28   \n",
            "\n",
            "   Unnamed: 2  Unnamed: 3  \n",
            "0         NaN         NaN  \n",
            "1     2021.00     2022.00  \n",
            "2       66.70       65.70  \n",
            "3       71.98       71.84  \n",
            "4       57.37       56.92  \n"
          ]
        }
      ],
      "source": [
        "import pandas as pd\n",
        "\n",
        "df_csv = pd.read_csv('Persentase rumah tangga menggunakan sumber air minum bersih menurut Kabupaten_Kota Sumatera Selatan, 2020-2022.csv')\n",
        "print(df_csv.head())"
      ]
    },
    {
      "cell_type": "code",
      "source": [
        "import matplotlib.pyplot as plt\n",
        "import seaborn as sns\n",
        "import pandas as pd\n",
        "\n",
        "\n",
        "\n",
        "# Set the figure size\n",
        "plt.figure(figsize=(14, 8))\n",
        "\n",
        "# Create the bar plot with grouped bars for each year\n",
        "df_long = df.melt(id_vars='Kabupaten/Kota', var_name='Tahun', value_name='Persentase')\n",
        "sns.barplot(data=df_long, x='Kabupaten/Kota', y='Persentase', hue='Tahun', palette='viridis')\n",
        "\n",
        "# Add title and labels\n",
        "plt.title('Perbandingan Persentase Rumah Tangga Menggunakan Sumber Air Minum Bersih di Sumatera Selatan (2020-2022)', fontsize=16)\n",
        "plt.xlabel('Kabupaten/Kota', fontsize=12)\n",
        "plt.ylabel('Persentase', fontsize=12)\n",
        "plt.xticks(rotation=90, fontsize=10)  # Rotate x-axis labels for better readability\n",
        "\n",
        "# Add a grid for better readability\n",
        "plt.grid(axis='y', linestyle='--', alpha=0.7)\n",
        "\n",
        "# Adjust legend position\n",
        "plt.legend(title='Tahun', bbox_to_anchor=(1.05, 1), loc='upper left')\n",
        "\n",
        "\n",
        "# Show the plot\n",
        "plt.tight_layout()\n",
        "plt.show()\n"
      ],
      "metadata": {
        "colab": {
          "base_uri": "https://localhost:8080/",
          "height": 228
        },
        "id": "tarvqiA3231g",
        "outputId": "e337e4c5-993d-4ef0-d653-6257319ea180"
      },
      "execution_count": 3,
      "outputs": [
        {
          "output_type": "error",
          "ename": "NameError",
          "evalue": "name 'df' is not defined",
          "traceback": [
            "\u001b[0;31m---------------------------------------------------------------------------\u001b[0m",
            "\u001b[0;31mNameError\u001b[0m                                 Traceback (most recent call last)",
            "\u001b[0;32m<ipython-input-3-f480f2599bff>\u001b[0m in \u001b[0;36m<cell line: 11>\u001b[0;34m()\u001b[0m\n\u001b[1;32m      9\u001b[0m \u001b[0;34m\u001b[0m\u001b[0m\n\u001b[1;32m     10\u001b[0m \u001b[0;31m# Create the bar plot with grouped bars for each year\u001b[0m\u001b[0;34m\u001b[0m\u001b[0;34m\u001b[0m\u001b[0m\n\u001b[0;32m---> 11\u001b[0;31m \u001b[0mdf_long\u001b[0m \u001b[0;34m=\u001b[0m \u001b[0mdf\u001b[0m\u001b[0;34m.\u001b[0m\u001b[0mmelt\u001b[0m\u001b[0;34m(\u001b[0m\u001b[0mid_vars\u001b[0m\u001b[0;34m=\u001b[0m\u001b[0;34m'Kabupaten/Kota'\u001b[0m\u001b[0;34m,\u001b[0m \u001b[0mvar_name\u001b[0m\u001b[0;34m=\u001b[0m\u001b[0;34m'Tahun'\u001b[0m\u001b[0;34m,\u001b[0m \u001b[0mvalue_name\u001b[0m\u001b[0;34m=\u001b[0m\u001b[0;34m'Persentase'\u001b[0m\u001b[0;34m)\u001b[0m\u001b[0;34m\u001b[0m\u001b[0;34m\u001b[0m\u001b[0m\n\u001b[0m\u001b[1;32m     12\u001b[0m \u001b[0msns\u001b[0m\u001b[0;34m.\u001b[0m\u001b[0mbarplot\u001b[0m\u001b[0;34m(\u001b[0m\u001b[0mdata\u001b[0m\u001b[0;34m=\u001b[0m\u001b[0mdf_long\u001b[0m\u001b[0;34m,\u001b[0m \u001b[0mx\u001b[0m\u001b[0;34m=\u001b[0m\u001b[0;34m'Kabupaten/Kota'\u001b[0m\u001b[0;34m,\u001b[0m \u001b[0my\u001b[0m\u001b[0;34m=\u001b[0m\u001b[0;34m'Persentase'\u001b[0m\u001b[0;34m,\u001b[0m \u001b[0mhue\u001b[0m\u001b[0;34m=\u001b[0m\u001b[0;34m'Tahun'\u001b[0m\u001b[0;34m,\u001b[0m \u001b[0mpalette\u001b[0m\u001b[0;34m=\u001b[0m\u001b[0;34m'viridis'\u001b[0m\u001b[0;34m)\u001b[0m\u001b[0;34m\u001b[0m\u001b[0;34m\u001b[0m\u001b[0m\n\u001b[1;32m     13\u001b[0m \u001b[0;34m\u001b[0m\u001b[0m\n",
            "\u001b[0;31mNameError\u001b[0m: name 'df' is not defined"
          ]
        },
        {
          "output_type": "display_data",
          "data": {
            "text/plain": [
              "<Figure size 1400x800 with 0 Axes>"
            ]
          },
          "metadata": {}
        }
      ]
    }
  ]
}